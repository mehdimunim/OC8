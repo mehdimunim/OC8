{
 "cells": [
  {
   "cell_type": "markdown",
   "id": "0e421664-2bf9-495e-af20-31e2d743fb17",
   "metadata": {
    "id": "0e421664-2bf9-495e-af20-31e2d743fb17"
   },
   "source": [
    "# Notebook 2 : Prétraitement des images de voitures\n",
    "\n",
    "- Mapping entre les 32 classes (road, sidewalk, parking...) et les 8 groupes (human, vehicle...) que l'on veut classifier.\n",
    "\n",
    "- Renommage des fichiers masque / image\n",
    "\n",
    "- Sauvegarde dans un dossier \"processed\"\n",
    "\n",
    "Élements dans le dossier \"raw\" :\n",
    "\n",
    "- *leftImg8bit* : image en format 8-bit\n",
    "\n",
    "- *gtFine* : images annotées (masques)\n",
    "\n",
    "On s'inspire des fonctions helpers disponibles [ici](https://github.com/mcordts/cityscapesScripts/blob/master/cityscapesscripts/helpers/labels.py)"
   ]
  },
  {
   "cell_type": "markdown",
   "id": "3de8f07c-cd3b-41af-bef5-3ae4617a0632",
   "metadata": {
    "id": "3de8f07c-cd3b-41af-bef5-3ae4617a0632"
   },
   "source": [
    "## Imports"
   ]
  },
  {
   "cell_type": "code",
   "execution_count": 1,
   "id": "f63ac775-1fe1-4d9e-ad66-6dcf4d03efa6",
   "metadata": {
    "execution": {
     "iopub.execute_input": "2025-04-22T07:50:34.817808Z",
     "iopub.status.busy": "2025-04-22T07:50:34.817303Z",
     "iopub.status.idle": "2025-04-22T07:50:36.249410Z",
     "shell.execute_reply": "2025-04-22T07:50:36.248447Z",
     "shell.execute_reply.started": "2025-04-22T07:50:34.817758Z"
    },
    "executionInfo": {
     "elapsed": 23,
     "status": "ok",
     "timestamp": 1745232541163,
     "user": {
      "displayName": "Mehdi MUNIM",
      "userId": "14326957258997738516"
     },
     "user_tz": -120
    },
    "id": "f63ac775-1fe1-4d9e-ad66-6dcf4d03efa6"
   },
   "outputs": [],
   "source": [
    "import os\n",
    "import cv2\n",
    "import numpy as np\n",
    "import glob\n",
    "from tqdm import tqdm\n",
    "import matplotlib.pyplot as plt\n"
   ]
  },
  {
   "cell_type": "markdown",
   "id": "fd4e0565-d700-4a20-b2c1-67b94d234def",
   "metadata": {
    "id": "fd4e0565-d700-4a20-b2c1-67b94d234def"
   },
   "source": [
    "## Configuration"
   ]
  },
  {
   "cell_type": "code",
   "execution_count": 2,
   "id": "3ca777ce-fc10-4a42-a2ee-4e7fd1c03643",
   "metadata": {
    "execution": {
     "iopub.execute_input": "2025-04-22T07:50:36.251485Z",
     "iopub.status.busy": "2025-04-22T07:50:36.250762Z",
     "iopub.status.idle": "2025-04-22T07:50:36.262642Z",
     "shell.execute_reply": "2025-04-22T07:50:36.260278Z",
     "shell.execute_reply.started": "2025-04-22T07:50:36.251447Z"
    },
    "executionInfo": {
     "elapsed": 10,
     "status": "ok",
     "timestamp": 1745232541190,
     "user": {
      "displayName": "Mehdi MUNIM",
      "userId": "14326957258997738516"
     },
     "user_tz": -120
    },
    "id": "3ca777ce-fc10-4a42-a2ee-4e7fd1c03643"
   },
   "outputs": [],
   "source": [
    "DATA_DIR = \"../data\"\n",
    "RAW_DIR = os.path.join(DATA_DIR, \"raw\")\n",
    "PROCESSED_DIR = os.path.join(DATA_DIR, \"processed\")\n",
    "\n",
    "## Redimensionnement de petite taille pour faciliter le traitement\n",
    "## Taille d'origine : 1024 x 2048 (cf. notebook 1)\n",
    "IMG_HEIGHT = 128\n",
    "IMG_WIDTH = 256\n",
    "\n",
    "\n",
    "NUM_CLASSES = 8\n"
   ]
  },
  {
   "cell_type": "markdown",
   "id": "02620e2e-a927-4d08-a8f5-ad9d7ee7f195",
   "metadata": {
    "id": "02620e2e-a927-4d08-a8f5-ad9d7ee7f195"
   },
   "source": [
    "## Class Mapping\n"
   ]
  },
  {
   "cell_type": "code",
   "execution_count": 3,
   "id": "c1d09521-f1c8-4821-b23e-b1082db76945",
   "metadata": {
    "execution": {
     "iopub.execute_input": "2025-04-22T07:50:36.267737Z",
     "iopub.status.busy": "2025-04-22T07:50:36.266927Z",
     "iopub.status.idle": "2025-04-22T07:50:36.303193Z",
     "shell.execute_reply": "2025-04-22T07:50:36.301964Z",
     "shell.execute_reply.started": "2025-04-22T07:50:36.267681Z"
    },
    "executionInfo": {
     "elapsed": 23,
     "status": "ok",
     "timestamp": 1745232541211,
     "user": {
      "displayName": "Mehdi MUNIM",
      "userId": "14326957258997738516"
     },
     "user_tz": -120
    },
    "id": "c1d09521-f1c8-4821-b23e-b1082db76945"
   },
   "outputs": [],
   "source": [
    "CLASS_MAPPING = {\n",
    "    0: 0,  # unlabeled -> void\n",
    "    1: 0,  # ego vehicle -> void\n",
    "    2: 0,  # rectification border -> void\n",
    "    3: 0,  # out of roi -> void\n",
    "    4: 0,  # static -> void\n",
    "    5: 0,  # dynamic -> void\n",
    "    6: 0,  # ground -> void\n",
    "    7: 1,  # road -> flat\n",
    "    8: 1,  # sidewalk -> flat\n",
    "    9: 1,  # parking -> flat\n",
    "    10: 1, # rail track -> flat\n",
    "    11: 2, # building -> construction\n",
    "    12: 2, # wall -> construction\n",
    "    13: 2, # fence -> construction\n",
    "    14: 2, # guard rail -> construction\n",
    "    15: 2, # bridge -> construction\n",
    "    16: 2, # tunnel -> construction\n",
    "    17: 3, # pole -> object\n",
    "    18: 3, # polegroup -> object\n",
    "    19: 3, # traffic light -> object\n",
    "    20: 3, # traffic sign -> object\n",
    "    21: 4, # vegetation -> nature\n",
    "    22: 4, # terrain -> nature\n",
    "    23: 5, # sky -> sky\n",
    "    24: 6, # person -> human\n",
    "    25: 6, # rider -> human\n",
    "    26: 7, # car -> vehicle\n",
    "    27: 7, # truck -> vehicle\n",
    "    28: 7, # bus -> vehicle\n",
    "    29: 7, # caravan -> vehicle\n",
    "    30: 7, # trailer -> vehicle\n",
    "    31: 7, # train -> vehicle\n",
    "    32: 7, # motorcycle -> vehicle\n",
    "    33: 7, # bicycle -> vehicle\n",
    "    -1: 7  # license plate -> vehicle (or could be 0 for void, depending on your needs)\n",
    "}"
   ]
  },
  {
   "cell_type": "markdown",
   "id": "c81e4ffa-85f4-4c1f-a584-1ed6bb95dc9b",
   "metadata": {
    "id": "c81e4ffa-85f4-4c1f-a584-1ed6bb95dc9b"
   },
   "source": [
    "## Fonctions Utilitaires"
   ]
  },
  {
   "cell_type": "code",
   "execution_count": 9,
   "id": "7dc8646d-bab9-4511-af2f-86bce10c5692",
   "metadata": {
    "execution": {
     "iopub.execute_input": "2025-04-22T07:56:14.804806Z",
     "iopub.status.busy": "2025-04-22T07:56:14.804359Z",
     "iopub.status.idle": "2025-04-22T07:56:14.813003Z",
     "shell.execute_reply": "2025-04-22T07:56:14.811628Z",
     "shell.execute_reply.started": "2025-04-22T07:56:14.804768Z"
    },
    "executionInfo": {
     "elapsed": 10,
     "status": "ok",
     "timestamp": 1745232541242,
     "user": {
      "displayName": "Mehdi MUNIM",
      "userId": "14326957258997738516"
     },
     "user_tz": -120
    },
    "id": "7dc8646d-bab9-4511-af2f-86bce10c5692"
   },
   "outputs": [],
   "source": [
    "def remap_classes(mask, mapping):\n",
    "    \"\"\"\n",
    "    Remappe les IDs de classe dans un masque de segmentation.\n",
    "\n",
    "    Args:\n",
    "        mask (numpy.ndarray): Le masque de segmentation d'entrée.\n",
    "        mapping (dict): Un dictionnaire définissant le remappage \n",
    "                      (clé: ancien ID, valeur: nouvel ID).\n",
    "\n",
    "    Returns:\n",
    "        numpy.ndarray: Le masque avec les IDs de classe remappés.\n",
    "    \"\"\"\n",
    "\n",
    "    # 1. Trouver l'ID de classe maximal à partir du mapping\n",
    "    max_old_class = max(mapping.keys()) \n",
    "    \n",
    "    # 2. Créer une table de correspondance (lookup table) initialisée à zéro.\n",
    "    #    - La taille est max_old_class + 1 pour couvrir toutes les valeurs possibles.\n",
    "    #    - Le type de données est np.uint8 (ou un autre type approprié) pour \n",
    "    #      stocker les nouveaux IDs de classe.\n",
    "    lookup_table = np.zeros(max_old_class + 1, dtype=np.uint16) \n",
    "    \n",
    "    # 3. Remplir la table de correspondance avec les nouvelles valeurs.\n",
    "    #    - Pour chaque paire (ancien ID, nouvel ID) dans le dictionnaire de mapping,\n",
    "    #      assigner le nouvel ID à l'index correspondant à l'ancien ID.\n",
    "    for old_class, new_class in mapping.items():\n",
    "        lookup_table[old_class] = new_class\n",
    "    \n",
    "    # 4. Appliquer le remappage à l'ensemble du masque de manière vectorisée.\n",
    "    #    - Utiliser la table de correspondance pour remplacer chaque ancien ID \n",
    "    #      par le nouvel ID correspondant.\n",
    "    #    - C'est l'opération la plus efficace, car elle exploite les optimisations de NumPy.\n",
    "    remapped_mask = lookup_table[mask]\n",
    "    \n",
    "    # 5. Retourner le masque remappé.\n",
    "    return remapped_mask\n",
    "\n",
    "def get_city_name(image_path):\n",
    "    return image_path.split('/')[-2]\n",
    "\n",
    "def get_image_name(image_path):\n",
    "    return image_path.split('/')[-1].split('_leftImg8bit')[0]\n"
   ]
  },
  {
   "cell_type": "markdown",
   "id": "84fc4137-7b74-4292-a55c-e6253fd63e1f",
   "metadata": {
    "id": "84fc4137-7b74-4292-a55c-e6253fd63e1f"
   },
   "source": [
    "# Définition de la fonction de préparation des données"
   ]
  },
  {
   "cell_type": "code",
   "execution_count": 10,
   "id": "30b428c9-09fb-4f8d-a7dc-5b058d95afbb",
   "metadata": {
    "execution": {
     "iopub.execute_input": "2025-04-22T07:56:15.624038Z",
     "iopub.status.busy": "2025-04-22T07:56:15.623455Z",
     "iopub.status.idle": "2025-04-22T07:56:15.640784Z",
     "shell.execute_reply": "2025-04-22T07:56:15.639740Z",
     "shell.execute_reply.started": "2025-04-22T07:56:15.623988Z"
    },
    "executionInfo": {
     "elapsed": 30,
     "status": "ok",
     "timestamp": 1745232541269,
     "user": {
      "displayName": "Mehdi MUNIM",
      "userId": "14326957258997738516"
     },
     "user_tz": -120
    },
    "id": "30b428c9-09fb-4f8d-a7dc-5b058d95afbb"
   },
   "outputs": [],
   "source": [
    "def prepare_data(image_dir, gt_dir, output_dir, class_mapping, img_height, img_width, dataset_type):\n",
    "    \"\"\"\n",
    "    Prépare les données en :\n",
    "        1. remappant les classes des masques de segmentation\n",
    "        2. en redimensionnant les images et les masques\n",
    "        3. en les sauvegardant dans un nouveau répertoire.\n",
    "    \"\"\"\n",
    "    print(f\"Préparation des données pour le dataset : {dataset_type}\")\n",
    "\n",
    "    # Créer les répertoires de sortie s'ils n'existent pas\n",
    "    os.makedirs(output_dir, exist_ok=True)\n",
    "\n",
    "    # Définir les chemins des images et des masques en fonction du type de dataset\n",
    "    image_dir = os.path.join(image_dir, dataset_type)\n",
    "    gt_dir = os.path.join(gt_dir, dataset_type)\n",
    "    output_dir = os.path.join(output_dir, dataset_type)\n",
    "\n",
    "    # Parcourir les villes\n",
    "    for city in tqdm(os.listdir(image_dir), desc=\"Processing Cities\"):\n",
    "        city_image_dir = os.path.join(image_dir, city)\n",
    "        city_gt_dir = os.path.join(gt_dir, city)\n",
    "        city_output_dir = os.path.join(output_dir, city)\n",
    "        os.makedirs(city_output_dir, exist_ok=True)\n",
    "\n",
    "        # Parcourir les images\n",
    "        for image_file in os.listdir(city_image_dir):\n",
    "            if image_file.endswith('.png'):\n",
    "                image_name = get_image_name(image_file)\n",
    "                image_path = os.path.join(city_image_dir, image_file)\n",
    "                mask_path = os.path.join(city_gt_dir, f\"{image_name}_gtFine_instanceIds.png\")\n",
    "\n",
    "                output_image_path = os.path.join(city_output_dir, f\"{image_name}_image.png\")\n",
    "                output_mask_path = os.path.join(city_output_dir, f\"{image_name}_mask.png\")\n",
    "\n",
    "                # Charger l'image et le masque\n",
    "                image = cv2.imread(image_path)\n",
    "                if image is None:\n",
    "                    print(f\"Erreur: Impossible de lire l'image : {image_path}. Skipping...\")\n",
    "                    continue  # Passer à l'image d'après\n",
    "\n",
    "                # Lecture de l'image (niveau de gris) \n",
    "                # et du masque (même format)\n",
    "                image = cv2.cvtColor(image, cv2.COLOR_BGR2RGB)\n",
    "                mask = cv2.imread(mask_path, cv2.IMREAD_UNCHANGED)\n",
    "\n",
    "                # Redimensionner l'image et le masque\n",
    "                image = cv2.resize(image, (img_width, img_height))\n",
    "                mask = cv2.resize(mask, (img_width, img_height), interpolation=cv2.INTER_NEAREST)\n",
    "\n",
    "                # Remaaper les classes du masque\n",
    "                remapped_mask = remap_classes(mask, class_mapping)\n",
    "               \n",
    "                # Sauvegarder l'image et le masque remappé\n",
    "                cv2.imwrite(output_image_path, image)\n",
    "                cv2.imwrite(output_mask_path, remapped_mask)\n",
    "\n",
    "    print(f\"Préparation des données terminée pour le dataset : {dataset_type}\")"
   ]
  },
  {
   "cell_type": "markdown",
   "id": "e11944bb-7f40-47a6-ab15-442a97076a48",
   "metadata": {
    "id": "e11944bb-7f40-47a6-ab15-442a97076a48"
   },
   "source": [
    "## Préparation des données"
   ]
  },
  {
   "cell_type": "code",
   "execution_count": null,
   "id": "a554806f-bb71-4c7b-8c8f-8c0774880df5",
   "metadata": {
    "colab": {
     "base_uri": "https://localhost:8080/",
     "height": 350
    },
    "execution": {
     "iopub.execute_input": "2025-04-22T07:56:16.304366Z",
     "iopub.status.busy": "2025-04-22T07:56:16.303521Z"
    },
    "executionInfo": {
     "elapsed": 366,
     "status": "error",
     "timestamp": 1745232561193,
     "user": {
      "displayName": "Mehdi MUNIM",
      "userId": "14326957258997738516"
     },
     "user_tz": -120
    },
    "id": "a554806f-bb71-4c7b-8c8f-8c0774880df5",
    "outputId": "24850241-9388-4709-d914-9447d3bc4d26"
   },
   "outputs": [
    {
     "name": "stdout",
     "output_type": "stream",
     "text": [
      "Préparation des données pour le dataset : test\n"
     ]
    },
    {
     "name": "stderr",
     "output_type": "stream",
     "text": [
      "Processing Cities:  83%|████████████████████████████▎     | 5/6 [01:51<00:21, 21.33s/it]"
     ]
    }
   ],
   "source": [
    "#DATASET_TYPES = ['train', 'val', 'test']\n",
    "DATASET_TYPES = ['test']\n",
    "\n",
    "for dataset_type in DATASET_TYPES:\n",
    "    prepare_data(\n",
    "        image_dir=os.path.join(RAW_DIR, \"leftImg8bit\"),\n",
    "        gt_dir=os.path.join(RAW_DIR, \"gtFine\"),\n",
    "        output_dir=PROCESSED_DIR,\n",
    "        class_mapping=CLASS_MAPPING,\n",
    "        img_height=IMG_HEIGHT,\n",
    "        img_width=IMG_WIDTH,\n",
    "        dataset_type=dataset_type\n",
    "    )\n",
    "\n",
    "print(\"Préparation des données terminée pour tous les datasets.\")\n"
   ]
  },
  {
   "cell_type": "markdown",
   "id": "857f935b-abfb-4b20-99ea-fc4e93bcd563",
   "metadata": {
    "id": "857f935b-abfb-4b20-99ea-fc4e93bcd563"
   },
   "source": [
    "## Vérification"
   ]
  },
  {
   "cell_type": "code",
   "execution_count": null,
   "id": "040d6b13-8d2e-4f59-a370-fd2e0f611935",
   "metadata": {
    "executionInfo": {
     "elapsed": 2,
     "status": "aborted",
     "timestamp": 1745232561281,
     "user": {
      "displayName": "Mehdi MUNIM",
      "userId": "14326957258997738516"
     },
     "user_tz": -120
    },
    "id": "040d6b13-8d2e-4f59-a370-fd2e0f611935"
   },
   "outputs": [],
   "source": [
    "# Charger une image et un masque prétraités\n",
    "image = cv2.imread(\"/home/mehdi/Documents/OC/OC8/data/raw/leftImg8bit/test/berlin/berlin_000003_000019_leftImg8bit.png\")\n",
    "\n",
    "mask = cv2.imread(\"/home/mehdi/Documents/OC/OC8/data/raw/gtFine/test/berlin/berlin_000003_000019_gtFine_instanceIds.png\",\n",
    "                  cv2.IMREAD_UNCHANGED)\n",
    "mask = mask.astype(np.uint8) \n",
    "\n",
    "# Afficher les valeurs uniques dans le masque AVANT le remapping\n",
    "print(\"Valeurs uniques dans le masque AVANT remapping :\", np.unique(mask))\n",
    "\n",
    "# Remaapper les classes du masque\n",
    "remapped_mask = remap_classes(mask, CLASS_MAPPING)\n",
    "\n",
    "# Afficher les valeurs uniques dans le masque APRES le remapping\n",
    "print(\"Valeurs uniques dans le masque APRES remapping:\", np.unique(remapped_mask))\n",
    "\n",
    "\n",
    "# Afficher l'image et le masque\n",
    "plt.figure(figsize=(10, 5))\n",
    "plt.subplot(1, 2, 1)\n",
    "plt.imshow(cv2.cvtColor(image, cv2.COLOR_BGR2RGB))\n",
    "plt.title(\"Image prétraitée\")\n",
    "plt.subplot(1, 2, 2)\n",
    "plt.imshow(remapped_mask) # Utiliser le masque remappé pour l'affichage\n",
    "plt.title(\"Masque prétraité\")\n",
    "plt.show()"
   ]
  },
  {
   "cell_type": "code",
   "execution_count": null,
   "id": "3a754e75-5147-4476-bf3d-fde166104c3c",
   "metadata": {},
   "outputs": [],
   "source": []
  }
 ],
 "metadata": {
  "colab": {
   "provenance": []
  },
  "kernelspec": {
   "display_name": "Python 3 (ipykernel)",
   "language": "python",
   "name": "python3"
  },
  "language_info": {
   "codemirror_mode": {
    "name": "ipython",
    "version": 3
   },
   "file_extension": ".py",
   "mimetype": "text/x-python",
   "name": "python",
   "nbconvert_exporter": "python",
   "pygments_lexer": "ipython3",
   "version": "3.10.12"
  }
 },
 "nbformat": 4,
 "nbformat_minor": 5
}
