{
 "cells": [
  {
   "cell_type": "markdown",
   "id": "3de8f07c-cd3b-41af-bef5-3ae4617a0632",
   "metadata": {},
   "source": [
    "# Imports"
   ]
  },
  {
   "cell_type": "code",
   "execution_count": 1,
   "id": "f63ac775-1fe1-4d9e-ad66-6dcf4d03efa6",
   "metadata": {
    "execution": {
     "iopub.execute_input": "2025-02-28T16:18:14.336711Z",
     "iopub.status.busy": "2025-02-28T16:18:14.336138Z",
     "iopub.status.idle": "2025-02-28T16:18:14.652686Z",
     "shell.execute_reply": "2025-02-28T16:18:14.651345Z",
     "shell.execute_reply.started": "2025-02-28T16:18:14.336668Z"
    }
   },
   "outputs": [],
   "source": [
    "import os\n",
    "import cv2\n",
    "import numpy as np\n",
    "import glob\n",
    "from tqdm import tqdm\n"
   ]
  },
  {
   "cell_type": "markdown",
   "id": "fd4e0565-d700-4a20-b2c1-67b94d234def",
   "metadata": {},
   "source": [
    "# Configuration"
   ]
  },
  {
   "cell_type": "code",
   "execution_count": 2,
   "id": "3ca777ce-fc10-4a42-a2ee-4e7fd1c03643",
   "metadata": {
    "execution": {
     "iopub.execute_input": "2025-02-28T16:18:18.373188Z",
     "iopub.status.busy": "2025-02-28T16:18:18.372452Z",
     "iopub.status.idle": "2025-02-28T16:18:18.380130Z",
     "shell.execute_reply": "2025-02-28T16:18:18.379091Z",
     "shell.execute_reply.started": "2025-02-28T16:18:18.373149Z"
    }
   },
   "outputs": [],
   "source": [
    "DATA_DIR = \"../data\"\n",
    "RAW_DIR = os.path.join(DATA_DIR, \"raw\")\n",
    "PROCESSED_DIR = os.path.join(DATA_DIR, \"processed\")\n",
    "IMG_HEIGHT = 256\n",
    "IMG_WIDTH = 512\n",
    "NUM_CLASSES = 8\n"
   ]
  },
  {
   "cell_type": "markdown",
   "id": "02620e2e-a927-4d08-a8f5-ad9d7ee7f195",
   "metadata": {},
   "source": [
    "# Class Mapping"
   ]
  },
  {
   "cell_type": "code",
   "execution_count": 3,
   "id": "c1d09521-f1c8-4821-b23e-b1082db76945",
   "metadata": {
    "execution": {
     "iopub.execute_input": "2025-02-28T16:18:20.844341Z",
     "iopub.status.busy": "2025-02-28T16:18:20.843868Z",
     "iopub.status.idle": "2025-02-28T16:18:20.853777Z",
     "shell.execute_reply": "2025-02-28T16:18:20.852728Z",
     "shell.execute_reply.started": "2025-02-28T16:18:20.844289Z"
    }
   },
   "outputs": [],
   "source": [
    "CLASS_MAPPING = {\n",
    "    0: 0,    # 'unlabeled'            -> background\n",
    "    1: 0,    # 'ego vehicle'          -> background\n",
    "    2: 0,    # 'rectification border' -> background\n",
    "    3: 0,    # 'out of roi'           -> background\n",
    "    4: 0,    # 'static'               -> background\n",
    "    5: 0,    # 'dynamic'              -> background\n",
    "    6: 0,    # 'ground'               -> background\n",
    "    7: 1,    # 'road'                 -> road\n",
    "    8: 2,    # 'sidewalk'             -> sidewalk\n",
    "    9: 0,    # 'parking'              -> background\n",
    "    10: 0,   # 'rail track'           -> background\n",
    "    11: 3,   # 'building'             -> building\n",
    "    12: 0,   # 'wall'                 -> background\n",
    "    13: 4,   # 'fence'                -> fence\n",
    "    14: 0,   # 'guard rail'           -> background\n",
    "    15: 0,   # 'bridge'               -> background\n",
    "    16: 0,   # 'tunnel'               -> background\n",
    "    17: 0,    # 'pole'                 -> background\n",
    "    18: 0,    # 'polegroup'            -> background\n",
    "    19: 0,    # 'traffic light'        -> background\n",
    "    20: 0,    # 'traffic sign'         -> background\n",
    "    21: 5,   # 'vegetation'           -> vegetation\n",
    "    22: 0,   # 'terrain'              -> background\n",
    "    23: 6,   # 'sky'                  -> sky\n",
    "    24: 7,   # 'person'               -> person\n",
    "    25: 7,   # 'rider'                -> person (regroupement)\n",
    "    26: 8,   # 'car'                  -> car\n",
    "    27: 8,   # 'truck'                -> car (regroupement)\n",
    "    28: 8,   # 'bus'                  -> car (regroupement)\n",
    "    29: 8,   # 'caravan'              -> car (regroupement)\n",
    "    30: 8,   # 'trailer'              -> car (regroupement)\n",
    "    31: 8,   # 'train'                -> car (regroupement)\n",
    "    32: 8,   # 'motorcycle'           -> vehicle\n",
    "    33: 8,   # 'bicycle'              -> vehicle\n",
    "    -1: 0     # 'license plate'        -> background\n",
    "}\n"
   ]
  },
  {
   "cell_type": "markdown",
   "id": "c81e4ffa-85f4-4c1f-a584-1ed6bb95dc9b",
   "metadata": {},
   "source": [
    "# Fonctions Utilitaires"
   ]
  },
  {
   "cell_type": "code",
   "execution_count": 4,
   "id": "7dc8646d-bab9-4511-af2f-86bce10c5692",
   "metadata": {
    "execution": {
     "iopub.execute_input": "2025-02-28T16:18:22.556913Z",
     "iopub.status.busy": "2025-02-28T16:18:22.556333Z",
     "iopub.status.idle": "2025-02-28T16:18:22.563064Z",
     "shell.execute_reply": "2025-02-28T16:18:22.561553Z",
     "shell.execute_reply.started": "2025-02-28T16:18:22.556877Z"
    }
   },
   "outputs": [],
   "source": [
    "def remap_classes(mask, mapping):\n",
    "    remapped_mask = np.zeros_like(mask, dtype=np.uint8)\n",
    "    for old_class, new_class in mapping.items():\n",
    "        remapped_mask[mask == old_class] = new_class\n",
    "    return remapped_mask\n",
    "\n",
    "def get_city_name(image_path):\n",
    "    return image_path.split('/')[-2]\n",
    "\n",
    "def get_image_name(image_path):\n",
    "    return image_path.split('/')[-1].split('_leftImg8bit')[0]\n"
   ]
  },
  {
   "cell_type": "markdown",
   "id": "84fc4137-7b74-4292-a55c-e6253fd63e1f",
   "metadata": {},
   "source": [
    "# Définition de la fonction de préparation des données"
   ]
  },
  {
   "cell_type": "code",
   "execution_count": 5,
   "id": "30b428c9-09fb-4f8d-a7dc-5b058d95afbb",
   "metadata": {
    "execution": {
     "iopub.execute_input": "2025-02-28T16:18:24.389029Z",
     "iopub.status.busy": "2025-02-28T16:18:24.388552Z",
     "iopub.status.idle": "2025-02-28T16:18:24.401954Z",
     "shell.execute_reply": "2025-02-28T16:18:24.400749Z",
     "shell.execute_reply.started": "2025-02-28T16:18:24.388994Z"
    }
   },
   "outputs": [],
   "source": [
    "def prepare_data(image_dir, gt_dir, output_dir, class_mapping, img_height, img_width, dataset_type):\n",
    "    \"\"\"\n",
    "    Prépare les données en remappant les classes des masques de segmentation,\n",
    "    en redimensionnant les images et les masques, et en les sauvegardant dans un\n",
    "    nouveau répertoire.\n",
    "    \"\"\"\n",
    "    print(f\"Préparation des données pour le dataset : {dataset_type}\")\n",
    "\n",
    "    # Créer les répertoires de sortie s'ils n'existent pas\n",
    "    os.makedirs(output_dir, exist_ok=True)\n",
    "\n",
    "    # Définir les chemins des images et des masques en fonction du type de dataset\n",
    "    image_dir = os.path.join(image_dir, dataset_type)\n",
    "    gt_dir = os.path.join(gt_dir, dataset_type)\n",
    "    output_dir = os.path.join(output_dir, dataset_type)\n",
    "\n",
    "    # Parcourir les villes\n",
    "    for city in tqdm(os.listdir(image_dir), desc=\"Processing Cities\"):\n",
    "        city_image_dir = os.path.join(image_dir, city)\n",
    "        city_gt_dir = os.path.join(gt_dir, city)\n",
    "        city_output_dir = os.path.join(output_dir, city)\n",
    "        os.makedirs(city_output_dir, exist_ok=True)\n",
    "\n",
    "        # Parcourir les images\n",
    "        for image_file in os.listdir(city_image_dir):\n",
    "            if image_file.endswith('.png'):\n",
    "                image_name = get_image_name(image_file)\n",
    "                image_path = os.path.join(city_image_dir, image_file)\n",
    "                mask_path = os.path.join(city_gt_dir, f\"{image_name}_gtFine_labelIds.png\")\n",
    "                output_image_path = os.path.join(city_output_dir, f\"{image_name}_image.png\")\n",
    "                output_mask_path = os.path.join(city_output_dir, f\"{image_name}_mask.png\")\n",
    "\n",
    "                # Charger l'image et le masque\n",
    "                image = cv2.imread(image_path)\n",
    "                image = cv2.cvtColor(image, cv2.COLOR_BGR2RGB)\n",
    "                mask = cv2.imread(mask_path, cv2.IMREAD_UNCHANGED)\n",
    "\n",
    "                # Redimensionner l'image et le masque\n",
    "                image = cv2.resize(image, (img_width, img_height))\n",
    "                mask = cv2.resize(mask, (img_width, img_height), interpolation=cv2.INTER_NEAREST)\n",
    "\n",
    "                # Remaaper les classes du masque\n",
    "                remapped_mask = remap_classes(mask, class_mapping)\n",
    "\n",
    "                # Sauvegarder l'image et le masque remappé\n",
    "                cv2.imwrite(output_image_path, image)\n",
    "                cv2.imwrite(output_mask_path, remapped_mask)\n",
    "\n",
    "    print(f\"Préparation des données terminée pour le dataset : {dataset_type}\")\n"
   ]
  },
  {
   "cell_type": "markdown",
   "id": "e11944bb-7f40-47a6-ab15-442a97076a48",
   "metadata": {},
   "source": [
    "# Préparation des données"
   ]
  },
  {
   "cell_type": "code",
   "execution_count": null,
   "id": "a554806f-bb71-4c7b-8c8f-8c0774880df5",
   "metadata": {
    "execution": {
     "iopub.execute_input": "2025-02-28T16:19:11.578135Z",
     "iopub.status.busy": "2025-02-28T16:19:11.577713Z"
    }
   },
   "outputs": [
    {
     "name": "stdout",
     "output_type": "stream",
     "text": [
      "Préparation des données pour le dataset : train\n"
     ]
    },
    {
     "name": "stderr",
     "output_type": "stream",
     "text": [
      "Processing Cities:  22%|█████▌                   | 4/18 [01:02<03:43, 15.98s/it]"
     ]
    }
   ],
   "source": [
    "DATASET_TYPES = ['train', 'val', 'test']\n",
    "\n",
    "for dataset_type in DATASET_TYPES:\n",
    "    prepare_data(\n",
    "        image_dir=os.path.join(RAW_DIR, \"leftImg8bit\"),\n",
    "        gt_dir=os.path.join(RAW_DIR, \"gtFine\"),\n",
    "        output_dir=PROCESSED_DIR,\n",
    "        class_mapping=CLASS_MAPPING,\n",
    "        img_height=IMG_HEIGHT,\n",
    "        img_width=IMG_WIDTH,\n",
    "        dataset_type=dataset_type\n",
    "    )\n",
    "\n",
    "print(\"Préparation des données terminée pour tous les datasets.\")\n"
   ]
  },
  {
   "cell_type": "markdown",
   "id": "857f935b-abfb-4b20-99ea-fc4e93bcd563",
   "metadata": {},
   "source": [
    "# Vérification"
   ]
  },
  {
   "cell_type": "code",
   "execution_count": null,
   "id": "040d6b13-8d2e-4f59-a370-fd2e0f611935",
   "metadata": {},
   "outputs": [],
   "source": [
    "# Charger une image et un masque prétraités\n",
    "image = cv2.imread(\"../data/processed/train/aachen/aachen_000000_000019_image.png\")\n",
    "mask = cv2.imread(\"../data/processed/train/aachen/aachen_000000_000019_mask.png\", cv2.IMREAD_UNCHANGED)\n",
    "\n",
    "# Afficher l'image et le masque\n",
    "plt.figure(figsize=(10, 5))\n",
    "plt.subplot(1, 2, 1)\n",
    "plt.imshow(cv2.cvtColor(image, cv2.COLOR_BGR2RGB))\n",
    "plt.title(\"Image prétraitée\")\n",
    "plt.subplot(1, 2, 2)\n",
    "plt.imshow(mask)\n",
    "plt.title(\"Masque prétraité\")\n",
    "plt.show()\n",
    "\n",
    "# Afficher les valeurs uniques dans le masque\n",
    "print(\"Valeurs uniques dans le masque :\", np.unique(mask))\n"
   ]
  }
 ],
 "metadata": {
  "kernelspec": {
   "display_name": "Python 3 (ipykernel)",
   "language": "python",
   "name": "python3"
  },
  "language_info": {
   "codemirror_mode": {
    "name": "ipython",
    "version": 3
   },
   "file_extension": ".py",
   "mimetype": "text/x-python",
   "name": "python",
   "nbconvert_exporter": "python",
   "pygments_lexer": "ipython3",
   "version": "3.10.12"
  }
 },
 "nbformat": 4,
 "nbformat_minor": 5
}
